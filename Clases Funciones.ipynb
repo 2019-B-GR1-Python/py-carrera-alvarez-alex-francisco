{
 "cells": [
  {
   "cell_type": "code",
   "execution_count": 2,
   "metadata": {},
   "outputs": [
    {
     "data": {
      "text/plain": [
       "4"
      ]
     },
     "execution_count": 2,
     "metadata": {},
     "output_type": "execute_result"
    }
   ],
   "source": [
    "#funciones lambda \n",
    "def elevar_al_cuadrado(numero):\n",
    "    return numero * numero\n",
    "elevar_al_cuadrado(2)\n"
   ]
  },
  {
   "cell_type": "code",
   "execution_count": 3,
   "metadata": {},
   "outputs": [],
   "source": [
    "elevar_al_cuadrado_lambda = lambda x: x*x"
   ]
  },
  {
   "cell_type": "code",
   "execution_count": 13,
   "metadata": {},
   "outputs": [],
   "source": [
    "imprimir_mi_nombre_lambda = lambda x: f\"mensaje: Hola {x}\" "
   ]
  },
  {
   "cell_type": "code",
   "execution_count": 4,
   "metadata": {},
   "outputs": [
    {
     "data": {
      "text/plain": [
       "4"
      ]
     },
     "execution_count": 4,
     "metadata": {},
     "output_type": "execute_result"
    }
   ],
   "source": [
    "elevar_al_cuadrado_lambda(2)"
   ]
  },
  {
   "cell_type": "code",
   "execution_count": 14,
   "metadata": {},
   "outputs": [
    {
     "data": {
      "text/plain": [
       "'mensaje: Hola Alex'"
      ]
     },
     "execution_count": 14,
     "metadata": {},
     "output_type": "execute_result"
    }
   ],
   "source": [
    "imprimir_mi_nombre_lambda (\"Alex\")"
   ]
  },
  {
   "cell_type": "code",
   "execution_count": 15,
   "metadata": {},
   "outputs": [],
   "source": [
    "suma_numeros = lambda x,y: x+y"
   ]
  },
  {
   "cell_type": "code",
   "execution_count": 16,
   "metadata": {},
   "outputs": [
    {
     "data": {
      "text/plain": [
       "6"
      ]
     },
     "execution_count": 16,
     "metadata": {},
     "output_type": "execute_result"
    }
   ],
   "source": [
    "suma_numeros(2,4)"
   ]
  },
  {
   "cell_type": "code",
   "execution_count": null,
   "metadata": {},
   "outputs": [],
   "source": [
    "#Clases en python"
   ]
  },
  {
   "cell_type": "code",
   "execution_count": 18,
   "metadata": {},
   "outputs": [],
   "source": [
    "class Nada:\n",
    "    pass\n"
   ]
  },
  {
   "cell_type": "code",
   "execution_count": 20,
   "metadata": {},
   "outputs": [
    {
     "name": "stdout",
     "output_type": "stream",
     "text": [
      "<__main__.Nada object at 0x00000253CABBA2C8>\n",
      "<class '__main__.Nada'>\n"
     ]
    }
   ],
   "source": [
    "una_nada = Nada()\n",
    "print(una_nada)\n",
    "print(type(una_nada))"
   ]
  },
  {
   "cell_type": "code",
   "execution_count": 60,
   "metadata": {},
   "outputs": [
    {
     "name": "stdout",
     "output_type": "stream",
     "text": [
      "Empezo el constructor\n",
      "None\n",
      "amazul\n",
      "1\n",
      "False\n",
      "Color: amazul\n",
      "Chasis: 1\n",
      "<bound method Auto.__calcular_impuesto of <__main__.Auto object at 0x00000253CA2B3288>>\n"
     ]
    }
   ],
   "source": [
    "class Auto:\n",
    "    color = None #las clases deben definir las propiedades a usar\n",
    "    __numero_chasis = 1 # propiedad privada\n",
    "    _emitido = False\n",
    "    \n",
    "    def __init__(self, color ): #hace referencia a this\n",
    "        print(\"Empezo el constructor\")\n",
    "        print(self.color)\n",
    "        self.color = color \n",
    "    \n",
    "    def __str__(self):\n",
    "        return f\"Color: {self.color}\\n\" + f\"Chasis: {self.__numero_chasis}\"\n",
    "    \n",
    "    def numero_chasis_impuesto(self):\n",
    "        return self.__numero_chasis\n",
    "    \n",
    "    def __calcular_impuesto():\n",
    "        return 14 * self.__numero_chasis\n",
    "    \n",
    "nuevo_auto = Auto(\"amazul\")\n",
    "print(nuevo_auto.color)\n",
    "print(nuevo_auto._Auto__numero_chasis) #Acceder a un metodo privado\n",
    "print(nuevo_auto._emitido)\n",
    "print(nuevo_auto)\n",
    "print(nuevo_auto._Auto__calcular_impuesto)"
   ]
  },
  {
   "cell_type": "code",
   "execution_count": 49,
   "metadata": {},
   "outputs": [],
   "source": [
    "class BMW(Auto):\n",
    "    def __init__(self, color = \"Blanco\"):\n",
    "        print(\"Inicializando BMW\")\n",
    "        super().__init__(color)"
   ]
  },
  {
   "cell_type": "code",
   "execution_count": 54,
   "metadata": {},
   "outputs": [
    {
     "name": "stdout",
     "output_type": "stream",
     "text": [
      "Inicializando BMW\n",
      "Empezo el constructor\n",
      "None\n"
     ]
    },
    {
     "data": {
      "text/plain": [
       "<function print>"
      ]
     },
     "execution_count": 54,
     "metadata": {},
     "output_type": "execute_result"
    }
   ],
   "source": [
    "carrito = BMW()\n",
    "print"
   ]
  },
  {
   "cell_type": "code",
   "execution_count": 67,
   "metadata": {},
   "outputs": [
    {
     "data": {
      "text/plain": [
       "2"
      ]
     },
     "execution_count": 67,
     "metadata": {},
     "output_type": "execute_result"
    }
   ],
   "source": [
    "#Funciones dentro de funciones\n",
    "def calculadora(num_uno, num__dos, operacion = \"suma\"):\n",
    "    \n",
    "    def suma():\n",
    "        return num_uno + num__dos\n",
    "    \n",
    "    def resta():\n",
    "        return num_uno - num__dos\n",
    "    \n",
    "    def multiplicacion():\n",
    "        return num_uno * num__dos\n",
    "    \n",
    "    def division():\n",
    "        return num_uno / num__dos\n",
    "    \n",
    "    def opcion_seleccionada():\n",
    "        \"\"\"\n",
    "        return{\n",
    "            'suma': suma(),\n",
    "            'resta': resta(),\n",
    "            'multiplicacion': multiplicacion(),\n",
    "            'division': division(),\n",
    "        }[operacion]\n",
    "        \"\"\"\n",
    "        opciones = {\n",
    "            'suma': suma(),\n",
    "            'resta': resta(),\n",
    "            'multiplicacion': multiplicacion(),\n",
    "            'division': division(),\n",
    "        }\n",
    "        return opciones[operacion]\n",
    "    \n",
    "    return opcion_seleccionada()\n",
    "\n",
    "calculadora(1,2,'multiplicacion')"
   ]
  },
  {
   "cell_type": "code",
   "execution_count": null,
   "metadata": {},
   "outputs": [],
   "source": [
    "#para el siguiente sabado un programa de papas e hijos:crear actualizar borrar buscar de dos \n",
    "#al menos 4 atributos de cada cosa\n",
    "#debe guardarse en un archivo\n",
    "input(\"Dime tu edad\")"
   ]
  }
 ],
 "metadata": {
  "kernelspec": {
   "display_name": "Python 3",
   "language": "python",
   "name": "python3"
  },
  "language_info": {
   "codemirror_mode": {
    "name": "ipython",
    "version": 3
   },
   "file_extension": ".py",
   "mimetype": "text/x-python",
   "name": "python",
   "nbconvert_exporter": "python",
   "pygments_lexer": "ipython3",
   "version": "3.7.4"
  }
 },
 "nbformat": 4,
 "nbformat_minor": 2
}
