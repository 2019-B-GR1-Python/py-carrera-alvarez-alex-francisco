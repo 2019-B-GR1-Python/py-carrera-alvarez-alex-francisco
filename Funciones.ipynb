{
 "cells": [
  {
   "cell_type": "code",
   "execution_count": null,
   "metadata": {},
   "outputs": [],
   "source": [
    "#Funciones"
   ]
  },
  {
   "cell_type": "code",
   "execution_count": 4,
   "metadata": {},
   "outputs": [
    {
     "name": "stdout",
     "output_type": "stream",
     "text": [
      "Hola Alex\n"
     ]
    }
   ],
   "source": [
    "def hola_mundo():\n",
    "    print(\"Hola Alex\")\n",
    "   \n",
    "hola_mundo()"
   ]
  },
  {
   "cell_type": "code",
   "execution_count": 9,
   "metadata": {},
   "outputs": [
    {
     "name": "stdout",
     "output_type": "stream",
     "text": [
      "suma 3\n"
     ]
    }
   ],
   "source": [
    "def sumar_dos_numeros(num_uno, num_dos): #Arg Requeridos\n",
    "    return num_uno + num_dos\n",
    "suma = sumar_dos_numeros(1,2)\n",
    "print(f\"suma {suma}\")"
   ]
  },
  {
   "cell_type": "code",
   "execution_count": 12,
   "metadata": {},
   "outputs": [
    {
     "name": "stdout",
     "output_type": "stream",
     "text": [
      "EPN\n",
      "ESPE\n"
     ]
    }
   ],
   "source": [
    "def imprimir_universidad(nombre = 'EPN'):\n",
    "    print(f\"{nombre}\")\n",
    "imprimir_universidad()\n",
    "\n",
    "imprimir_universidad(\"ESPE\")"
   ]
  },
  {
   "cell_type": "code",
   "execution_count": 14,
   "metadata": {},
   "outputs": [
    {
     "name": "stdout",
     "output_type": "stream",
     "text": [
      "Color: Blanco\n",
      "Placa: abc-123\n",
      "Caballos de fuerza: 2000\n",
      "Año: 1970\n",
      "Color: Amazul\n",
      "Placa: def-456\n",
      "Caballos de fuerza: 3500\n",
      "Año: 2005\n"
     ]
    }
   ],
   "source": [
    "def imprimir_carro(color, placa, hp, anio):\n",
    "    print(f\"Color: {color}\")\n",
    "    print(f\"Placa: {placa}\")\n",
    "    print(f\"Caballos de fuerza: {hp}\")\n",
    "    print(f\"Año: {anio}\")\n",
    "    \n",
    "imprimir_carro(\"Blanco\", \"abc-123\", 2000,1970)\n",
    "\n",
    "imprimir_carro(anio = 2005,\n",
    "               color=\"Amazul\",\n",
    "               placa=\"def-456\",\n",
    "               hp=3500)\n",
    "#Named Parameters\n",
    "\n",
    "imprimir_carro(\"Cafe\", \"mns-546\", anio=2033,hp=1650)     \n",
    "\n",
    "#REGLAS\n",
    "# 1) Parametros requeridos 1ero, luego los opcionales\n",
    "# 2) Enviar SIEMPRE parametros requeridos \n",
    "# 3) Si ya se envia un patrametro nombrado,\n",
    "#    Los parametros que falten de enviarse van a tener\n",
    "#    que ser nombrados\n",
    "    "
   ]
  },
  {
   "cell_type": "code",
   "execution_count": 22,
   "metadata": {},
   "outputs": [
    {
     "name": "stdout",
     "output_type": "stream",
     "text": [
      "<class 'tuple'>\n",
      "(2, 8)\n"
     ]
    },
    {
     "data": {
      "text/plain": [
       "11"
      ]
     },
     "execution_count": 22,
     "metadata": {},
     "output_type": "execute_result"
    }
   ],
   "source": [
    "#suma de infinitos numeros\n",
    "def sumar_numeros (primer_numero,\n",
    "                   *numeros): #Parametros infinitos\n",
    "    print(type(numeros))\n",
    "    print(numeros)\n",
    "    \n",
    "    longitud=len(numeros)\n",
    "    if(longitud == 0):\n",
    "        return primer_numero\n",
    "    else:\n",
    "        suma = 0 + primer_numero\n",
    "        for numero in numeros:\n",
    "            suma = suma + numero\n",
    "        return suma\n",
    "sumar_numeros (1,2,8)\n",
    "    \n",
    "    "
   ]
  },
  {
   "cell_type": "code",
   "execution_count": null,
   "metadata": {},
   "outputs": [],
   "source": []
  }
 ],
 "metadata": {
  "kernelspec": {
   "display_name": "Python 3",
   "language": "python",
   "name": "python3"
  },
  "language_info": {
   "codemirror_mode": {
    "name": "ipython",
    "version": 3
   },
   "file_extension": ".py",
   "mimetype": "text/x-python",
   "name": "python",
   "nbconvert_exporter": "python",
   "pygments_lexer": "ipython3",
   "version": "3.7.4"
  }
 },
 "nbformat": 4,
 "nbformat_minor": 2
}
