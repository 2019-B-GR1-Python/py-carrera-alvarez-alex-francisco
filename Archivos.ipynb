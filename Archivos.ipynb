{
 "cells": [
  {
   "cell_type": "code",
   "execution_count": 16,
   "metadata": {},
   "outputs": [
    {
     "name": "stdout",
     "output_type": "stream",
     "text": [
      "L1: Buenos dias \n",
      "\n",
      "L2: Buenas tardes\n",
      "\n",
      "L3: Buenas noches\n",
      "\n",
      "<class 'list'>\n",
      " Buenas madrugadas\n",
      "\n",
      "ABB\n",
      "\n",
      "DEF\n",
      "\n",
      "Buenas madrugadas\n",
      "\n",
      "ABB\n",
      "\n",
      "DEF\n",
      "\n"
     ]
    }
   ],
   "source": [
    "#Archivos\n",
    "try:\n",
    "    path = \"./frases.txt\"\n",
    "    archivo_abierto = open(path)\n",
    "    linea_uno = archivo_abierto.readline()\n",
    "    print (f\"L1: {linea_uno}\")\n",
    "    linea_dos = archivo_abierto.readline()\n",
    "    print (f\"L2: {linea_dos}\")\n",
    "    linea_tres = archivo_abierto.readline()\n",
    "    print (f\"L3: {linea_tres}\")\n",
    "\n",
    "    \n",
    "    contenido = archivo_abierto.readlines()\n",
    "    print (type(contenido))\n",
    "    for linea in contenido:\n",
    "        print (linea)\n",
    "    archivo_abierto.close()\n",
    "except Exception as error:\n",
    "    print(\"ERROR\")"
   ]
  },
  {
   "cell_type": "code",
   "execution_count": 15,
   "metadata": {},
   "outputs": [],
   "source": [
    "try:\n",
    "    path = \"./frases.txt\"\n",
    "    archivo_escritura_abierto = open(path, mode=\"a\")\n",
    "    # a => Append\n",
    "    # w => Write (sobre escribe)\n",
    "    archivo_escritura_abierto.write(\"Buenas madrugadas\\n\")\n",
    "    archivo_escritura_abierto.writelines(\n",
    "    [\"ABB\\n\", \"DEF\\n\"])\n",
    "    archivo_escritura_abierto.close()\n",
    "except Exception as error:\n",
    "    print(\"Error\")"
   ]
  }
 ],
 "metadata": {
  "kernelspec": {
   "display_name": "Python 3",
   "language": "python",
   "name": "python3"
  },
  "language_info": {
   "codemirror_mode": {
    "name": "ipython",
    "version": 3
   },
   "file_extension": ".py",
   "mimetype": "text/x-python",
   "name": "python",
   "nbconvert_exporter": "python",
   "pygments_lexer": "ipython3",
   "version": "3.7.4"
  }
 },
 "nbformat": 4,
 "nbformat_minor": 2
}
