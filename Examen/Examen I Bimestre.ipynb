{
 "cells": [
  {
   "cell_type": "markdown",
   "metadata": {},
   "source": [
    "# Examen"
   ]
  },
  {
   "cell_type": "code",
   "execution_count": 9,
   "metadata": {},
   "outputs": [],
   "source": [
    "import pandas as pd\n",
    "import numpy as np\n",
    "from scipy import misc\n",
    "import matplotlib.pyplot as plt"
   ]
  },
  {
   "cell_type": "markdown",
   "metadata": {},
   "source": [
    "**1. Crear un vector de ceros de tamaño 10**"
   ]
  },
  {
   "cell_type": "code",
   "execution_count": 8,
   "metadata": {},
   "outputs": [
    {
     "name": "stdout",
     "output_type": "stream",
     "text": [
      "[0. 0. 0. 0. 0. 0. 0. 0. 0. 0.]\n"
     ]
    }
   ],
   "source": [
    "vector_ceros = np.zeros(10)\n",
    "\n",
    "print(vector_ceros)"
   ]
  },
  {
   "cell_type": "markdown",
   "metadata": {},
   "source": [
    "**2. Crear un vector de ceros de tamaño 10 y el de la posicion 5 sea igual a 1**"
   ]
  },
  {
   "cell_type": "code",
   "execution_count": 19,
   "metadata": {},
   "outputs": [
    {
     "name": "stdout",
     "output_type": "stream",
     "text": [
      "[0. 0. 0. 0. 0. 1. 0. 0. 0. 0.]\n"
     ]
    }
   ],
   "source": [
    "vector_ceros2 = np.zeros(10)\n",
    "vector_ceros2[5] = 1\n",
    "\n",
    "print(vector_ceros2)"
   ]
  },
  {
   "cell_type": "markdown",
   "metadata": {},
   "source": [
    "**3. Cambiar el orden de un vector de 50 elementos, el de la posicion 1 es el de la 50 etc**"
   ]
  },
  {
   "cell_type": "code",
   "execution_count": 17,
   "metadata": {},
   "outputs": [
    {
     "name": "stdout",
     "output_type": "stream",
     "text": [
      "[0.3777131  0.94730581 0.5177058  0.08833087 0.69300591 0.83453035\n",
      " 0.45444394 0.04867044 0.39197011 0.49090171 0.85896425 0.77494315\n",
      " 0.82167373 0.36583369 0.51441892 0.39243226 0.81501844 0.12418177\n",
      " 0.27001727 0.95131034 0.00560132 0.71933375 0.65969153 0.27106267\n",
      " 0.47088895 0.42365159 0.15546982 0.77682853 0.14097485 0.50161922\n",
      " 0.89919163 0.1544059  0.97172011 0.32595621 0.38962521 0.13817763\n",
      " 0.54607499 0.84941893 0.75620685 0.59785956 0.15269205 0.47589071\n",
      " 0.7229342  0.6663195  0.6469582  0.08975246 0.46151116 0.50950065\n",
      " 0.12871265 0.1107474 ]\n"
     ]
    }
   ],
   "source": [
    "vector = np.random.rand(50)\n",
    "\n",
    "vector_reordenado = vector[::1]\n",
    "\n",
    "print(vector_reordenado)"
   ]
  },
  {
   "cell_type": "markdown",
   "metadata": {},
   "source": [
    "**4. Crear una matriz de 3 x 3 con valores del cero al 8**"
   ]
  },
  {
   "cell_type": "code",
   "execution_count": 12,
   "metadata": {},
   "outputs": [
    {
     "name": "stdout",
     "output_type": "stream",
     "text": [
      "[[0 1 2]\n",
      " [3 4 5]\n",
      " [6 7 8]]\n"
     ]
    }
   ],
   "source": [
    "matriz = np.array(range(9))\n",
    "matriz = matriz.reshape(3, 3)\n",
    "\n",
    "print(matriz)"
   ]
  },
  {
   "cell_type": "markdown",
   "metadata": {},
   "source": [
    "**5. Encontrar los indices que no sean cero en un arreglo**"
   ]
  },
  {
   "cell_type": "code",
   "execution_count": 16,
   "metadata": {},
   "outputs": [
    {
     "name": "stdout",
     "output_type": "stream",
     "text": [
      "(array([0, 1, 4], dtype=int64),)\n"
     ]
    }
   ],
   "source": [
    "arreglo = np.array([1,2,0,0,4,0])\n",
    "\n",
    "distinct_cero = np.where(arreglo != 0)\n",
    "\n",
    "print(distinct_cero)\n"
   ]
  },
  {
   "cell_type": "markdown",
   "metadata": {},
   "source": [
    "**6. Crear una matriz de identidad 3 x 3**"
   ]
  },
  {
   "cell_type": "code",
   "execution_count": 18,
   "metadata": {},
   "outputs": [
    {
     "name": "stdout",
     "output_type": "stream",
     "text": [
      "[[1. 0. 0.]\n",
      " [0. 1. 0.]\n",
      " [0. 0. 1.]]\n"
     ]
    }
   ],
   "source": [
    "matriz_identidad = np.identity(3)\n",
    "\n",
    "print(matriz_identidad)"
   ]
  },
  {
   "cell_type": "markdown",
   "metadata": {},
   "source": [
    "**7. Crear una matriz 3 x 3 x 3 con valores randomicos**"
   ]
  },
  {
   "cell_type": "code",
   "execution_count": 20,
   "metadata": {},
   "outputs": [
    {
     "name": "stdout",
     "output_type": "stream",
     "text": [
      "[[[0.59803233 0.31044142 0.29982278]\n",
      "  [0.14535448 0.65296632 0.53735923]\n",
      "  [0.37295251 0.2053004  0.17019733]]\n",
      "\n",
      " [[0.48460089 0.71944321 0.15478064]\n",
      "  [0.94324171 0.17806152 0.13361349]\n",
      "  [0.62045342 0.89111702 0.88382506]]\n",
      "\n",
      " [[0.15596905 0.91523361 0.87754004]\n",
      "  [0.1412457  0.54399833 0.00964579]\n",
      "  [0.30245049 0.29471785 0.88322394]]]\n"
     ]
    }
   ],
   "source": [
    "matriz_randomica = np.random.rand(3, 3, 3)\n",
    "\n",
    "print(matriz_randomica)"
   ]
  },
  {
   "cell_type": "markdown",
   "metadata": {},
   "source": [
    "**8. Crear una matriz 10 x 10 y encontrar el mayor y el menor**"
   ]
  },
  {
   "cell_type": "code",
   "execution_count": 21,
   "metadata": {},
   "outputs": [
    {
     "name": "stdout",
     "output_type": "stream",
     "text": [
      "La matriz es: [[0.44947225 0.13094999 0.46658039 0.3640052  0.0638934  0.57501015\n",
      "  0.7502463  0.83995157 0.84865651 0.60069675]\n",
      " [0.19207388 0.30628641 0.63132323 0.62019821 0.46786939 0.48202575\n",
      "  0.73175427 0.89933362 0.37678254 0.90085931]\n",
      " [0.27253105 0.72562227 0.05171082 0.57245493 0.37648692 0.17857707\n",
      "  0.37068694 0.51718542 0.34244607 0.10516476]\n",
      " [0.73806441 0.70812961 0.70027046 0.99807549 0.6669832  0.43144679\n",
      "  0.6680386  0.64992377 0.30263837 0.66537857]\n",
      " [0.35601971 0.50832213 0.89088035 0.10214051 0.93466879 0.47502432\n",
      "  0.85417211 0.47720194 0.84244392 0.52620545]\n",
      " [0.93984581 0.67694859 0.96872392 0.63374188 0.11365865 0.53229559\n",
      "  0.94330277 0.3503982  0.45517304 0.92049782]\n",
      " [0.42145273 0.6300339  0.25964343 0.00761057 0.36015536 0.02135891\n",
      "  0.04906793 0.5270706  0.01502479 0.03547257]\n",
      " [0.95015909 0.43522422 0.32077327 0.88636798 0.02426764 0.41168157\n",
      "  0.89009115 0.92032894 0.01754723 0.93662743]\n",
      " [0.75132327 0.06486054 0.27229225 0.91025432 0.80574913 0.37728803\n",
      "  0.17398869 0.7958028  0.5511397  0.95034294]\n",
      " [0.79784499 0.46714545 0.16993847 0.70435686 0.29102375 0.8168723\n",
      "  0.65046274 0.01747157 0.78880346 0.40512247]]\n",
      "\n",
      "Su elemento mayor es 0.9980754860756433 y su elemento menor es 0.007610566650442907\n"
     ]
    }
   ],
   "source": [
    "matriz = np.random.rand(10, 10)\n",
    "\n",
    "mayor = matriz.max()\n",
    "menor = matriz.min()\n",
    "\n",
    "print(\"La matriz es:\", matriz)\n",
    "print(f\"\\nSu elemento mayor es {mayor} y su elemento menor es {menor}\")"
   ]
  },
  {
   "cell_type": "markdown",
   "metadata": {},
   "source": [
    "**9. Sacar los colores RGB unicos en una imagen (cuales rgb existen ej: 0, 0, 0 - 255,255,255 -> 2 colores)**"
   ]
  },
  {
   "cell_type": "code",
   "execution_count": null,
   "metadata": {},
   "outputs": [],
   "source": []
  },
  {
   "cell_type": "markdown",
   "metadata": {},
   "source": [
    "**10. ¿Como crear una serie de una lista, diccionario o arreglo?**"
   ]
  },
  {
   "cell_type": "code",
   "execution_count": 22,
   "metadata": {},
   "outputs": [
    {
     "name": "stdout",
     "output_type": "stream",
     "text": [
      "Las series son:\n",
      "Serie de una lista:\n",
      "0     a\n",
      "1     b\n",
      "2     c\n",
      "3     e\n",
      "4     d\n",
      "5     f\n",
      "6     g\n",
      "7     h\n",
      "8     i\n",
      "9     j\n",
      "10    k\n",
      "11    l\n",
      "12    m\n",
      "13    n\n",
      "14    o\n",
      "15    p\n",
      "16    q\n",
      "17    r\n",
      "18    s\n",
      "19    t\n",
      "20    u\n",
      "21    v\n",
      "22    w\n",
      "23    x\n",
      "24    y\n",
      "25    z\n",
      "dtype: object\n",
      "Serie de un arreglo:\n",
      "0      0\n",
      "1      1\n",
      "2      2\n",
      "3      3\n",
      "4      4\n",
      "5      5\n",
      "6      6\n",
      "7      7\n",
      "8      8\n",
      "9      9\n",
      "10    10\n",
      "11    11\n",
      "12    12\n",
      "13    13\n",
      "14    14\n",
      "15    15\n",
      "16    16\n",
      "17    17\n",
      "18    18\n",
      "19    19\n",
      "20    20\n",
      "21    21\n",
      "22    22\n",
      "23    23\n",
      "24    24\n",
      "25    25\n",
      "dtype: int32\n",
      "Serie de un diccionario:\n",
      "a     0\n",
      "b     1\n",
      "c     2\n",
      "e     3\n",
      "d     4\n",
      "f     5\n",
      "g     6\n",
      "h     7\n",
      "i     8\n",
      "j     9\n",
      "k    10\n",
      "l    11\n",
      "m    12\n",
      "n    13\n",
      "o    14\n",
      "p    15\n",
      "q    16\n",
      "r    17\n",
      "s    18\n",
      "t    19\n",
      "u    20\n",
      "v    21\n",
      "w    22\n",
      "x    23\n",
      "y    24\n",
      "z    25\n",
      "dtype: int64\n"
     ]
    }
   ],
   "source": [
    "import numpy as np\n",
    "mylist = list('abcedfghijklmnopqrstuvwxyz')\n",
    "myarr = np.arange(26)\n",
    "mydict = dict(zip(mylist, myarr))\n",
    "\n",
    "serie_lista = pd.Series(mylist)\n",
    "serie_arreglo = pd.Series(myarr)\n",
    "serie_diccionario = pd.Series(mydict)\n",
    "\n",
    "print(f\"Las series son:\\nSerie de una lista:\\n{serie_lista}\\nSerie de un arreglo:\\n{serie_arreglo}\\nSerie de un diccionario:\\n{serie_diccionario}\")\n"
   ]
  },
  {
   "cell_type": "markdown",
   "metadata": {},
   "source": [
    "**11. ¿Como convertir el indice de una serie en una columna de un DataFrame?**"
   ]
  },
  {
   "cell_type": "code",
   "execution_count": 23,
   "metadata": {},
   "outputs": [
    {
     "name": "stdout",
     "output_type": "stream",
     "text": [
      "    0\n",
      "a   0\n",
      "b   1\n",
      "c   2\n",
      "e   3\n",
      "d   4\n",
      "f   5\n",
      "g   6\n",
      "h   7\n",
      "i   8\n",
      "j   9\n",
      "k  10\n",
      "l  11\n",
      "m  12\n",
      "n  13\n",
      "o  14\n",
      "p  15\n",
      "q  16\n",
      "r  17\n",
      "s  18\n",
      "t  19\n",
      "u  20\n",
      "v  21\n",
      "w  22\n",
      "x  23\n",
      "y  24\n",
      "z  25\n"
     ]
    }
   ],
   "source": [
    "mylist = list('abcedfghijklmnopqrstuvwxyz')\n",
    "myarr = np.arange(26)\n",
    "mydict = dict(zip(mylist, myarr))\n",
    "ser = pd.Series(mydict) \n",
    "# Transformar la serie en dataframe y hacer una columna indice\n",
    "\n",
    "df_serie = pd.DataFrame(ser)\n",
    "\n",
    "print(df_serie)"
   ]
  },
  {
   "cell_type": "markdown",
   "metadata": {},
   "source": [
    "**12. ¿Como combinar varias series para hacer un DataFrame?**"
   ]
  },
  {
   "cell_type": "code",
   "execution_count": 24,
   "metadata": {},
   "outputs": [
    {
     "name": "stdout",
     "output_type": "stream",
     "text": [
      "   ser1  ser2\n",
      "0     a     0\n",
      "1     b     1\n",
      "2     c     2\n",
      "3     e     3\n",
      "4     d     4\n",
      "5     f     5\n",
      "6     g     6\n",
      "7     h     7\n",
      "8     i     8\n",
      "9     j     9\n",
      "10    k    10\n",
      "11    l    11\n",
      "12    m    12\n",
      "13    n    13\n",
      "14    o    14\n",
      "15    p    15\n",
      "16    q    16\n",
      "17    r    17\n",
      "18    s    18\n",
      "19    t    19\n",
      "20    u    20\n",
      "21    v    21\n",
      "22    w    22\n",
      "23    x    23\n",
      "24    y    24\n",
      "25    z    25\n"
     ]
    }
   ],
   "source": [
    "import numpy as np\n",
    "ser1 = pd.Series(list('abcedfghijklmnopqrstuvwxyz'))\n",
    "ser2 = pd.Series(np.arange(26))\n",
    "\n",
    "df_combinado = pd.DataFrame({'ser1': ser1, 'ser2': ser2})\n",
    "\n",
    "print(df_combinado)"
   ]
  },
  {
   "cell_type": "markdown",
   "metadata": {},
   "source": [
    "**13. ¿Como obtener los items que esten en una serie A y no en una serie B?**"
   ]
  },
  {
   "cell_type": "code",
   "execution_count": 26,
   "metadata": {},
   "outputs": [
    {
     "name": "stdout",
     "output_type": "stream",
     "text": [
      "los items de la seria 1 que no estan en la serie 2 son:\n",
      "0    1\n",
      "1    2\n",
      "2    3\n",
      "dtype: int64\n"
     ]
    }
   ],
   "source": [
    "ser1 = pd.Series([1, 2, 3, 4, 5])\n",
    "ser2 = pd.Series([4, 5, 6, 7, 8])\n",
    "\n",
    "items = ser1[~ser1.isin(ser2)]\n",
    "\n",
    "print(f\"los items de la seria 1 que no estan en la serie 2 son:\\n{items}\")"
   ]
  },
  {
   "cell_type": "markdown",
   "metadata": {},
   "source": [
    "**14. ¿Como obtener los items que no son comunes en una serie A y serie B?**"
   ]
  },
  {
   "cell_type": "code",
   "execution_count": 27,
   "metadata": {},
   "outputs": [
    {
     "name": "stdout",
     "output_type": "stream",
     "text": [
      "Los items que no se repiten en ambas series son:\n",
      "0    1\n",
      "1    2\n",
      "2    3\n",
      "2    6\n",
      "3    7\n",
      "4    8\n",
      "dtype: int64\n"
     ]
    }
   ],
   "source": [
    "ser1 = pd.Series([1, 2, 3, 4, 5])\n",
    "ser2 = pd.Series([4, 5, 6, 7, 8])\n",
    "\n",
    "items_no_comunes_A = ser1[~ser1.isin(ser2)]\n",
    "items_no_comunes_B = ser2[~ser2.isin(ser1)]\n",
    "items_no_comunes = pd.concat([items_no_comunes_A, items_no_comunes_B])\n",
    "\n",
    "print(f\"Los items que no se repiten en ambas series son:\\n{items_no_comunes}\")"
   ]
  },
  {
   "cell_type": "markdown",
   "metadata": {},
   "source": [
    "**15. ¿Como obtener el numero de veces que se repite un valor en una serie?**"
   ]
  },
  {
   "cell_type": "code",
   "execution_count": 30,
   "metadata": {
    "scrolled": true
   },
   "outputs": [
    {
     "name": "stdout",
     "output_type": "stream",
     "text": [
      "Los elementos se repiten de la siguiente manera:\n",
      "e    6\n",
      "g    5\n",
      "h    5\n",
      "c    4\n",
      "f    4\n",
      "d    3\n",
      "a    2\n",
      "b    1\n",
      "dtype: int64\n"
     ]
    }
   ],
   "source": [
    "ser = pd.Series(np.take(list('abcdefgh'), np.random.randint(8, size=30)))\n",
    "\n",
    "veces_repetido = ser.value_counts()\n",
    "\n",
    "print(f\"Los elementos se repiten de la siguiente manera:\\n{veces_repetido}\")"
   ]
  },
  {
   "cell_type": "markdown",
   "metadata": {},
   "source": [
    "**16. ¿Como mantener los 2 valores mas repetidos de una serie, y a los demas valores cambiarles por 0 ?**"
   ]
  },
  {
   "cell_type": "code",
   "execution_count": 38,
   "metadata": {},
   "outputs": [
    {
     "name": "stdout",
     "output_type": "stream",
     "text": [
      "3    5\n",
      "4    3\n",
      "2    0\n",
      "1    0\n",
      "dtype: int64\n"
     ]
    }
   ],
   "source": [
    "np.random.RandomState(100)\n",
    "ser = pd.Series(np.random.randint(1, 5, [12]))\n",
    "\n",
    "valores_repetidos = ser.value_counts()\n",
    "valores_repetidos[2:] = 0\n",
    "\n",
    "print(valores_repetidos)"
   ]
  },
  {
   "cell_type": "markdown",
   "metadata": {},
   "source": [
    "**17. ¿Como transformar una serie de un arreglo de numpy a un DataFrame con un shape definido?**"
   ]
  },
  {
   "cell_type": "code",
   "execution_count": 40,
   "metadata": {},
   "outputs": [
    {
     "name": "stdout",
     "output_type": "stream",
     "text": [
      "Dataframe:\n",
      "   0  1  2  3  4\n",
      "0  9  1  3  9  3\n",
      "1  5  8  1  1  2\n",
      "2  5  1  7  1  9\n",
      "3  6  8  5  2  9\n",
      "4  6  1  5  4  9\n",
      "5  2  5  6  8  3\n",
      "6  4  6  4  9  8\n"
     ]
    }
   ],
   "source": [
    "ser = pd.Series(np.random.randint(1, 10, 35))\n",
    "\n",
    "df_ser = pd.DataFrame(ser.values.reshape(7, 5))\n",
    "\n",
    "print(f\"Dataframe:\\n{df_ser}\")"
   ]
  },
  {
   "cell_type": "markdown",
   "metadata": {},
   "source": [
    "**18. ¿Obtener los valores de una serie conociendo la posicion por indice?**"
   ]
  },
  {
   "cell_type": "code",
   "execution_count": 37,
   "metadata": {},
   "outputs": [
    {
     "name": "stdout",
     "output_type": "stream",
     "text": [
      "0     a\n",
      "4     e\n",
      "8     i\n",
      "14    o\n",
      "20    u\n",
      "dtype: object\n"
     ]
    }
   ],
   "source": [
    "ser = pd.Series(list('abcdefghijklmnopqrstuvwxyz'))\n",
    "pos = [0, 4, 8, 14, 20]\n",
    "# a e i o u\n",
    "\n",
    "print(ser[pos])"
   ]
  },
  {
   "cell_type": "markdown",
   "metadata": {},
   "source": [
    "**19. ¿Como anadir series vertical u horizontalmente a un DataFrame?**"
   ]
  },
  {
   "cell_type": "code",
   "execution_count": null,
   "metadata": {},
   "outputs": [],
   "source": [
    "ser1 = pd.Series(range(5))\n",
    "ser2 = pd.Series(list('abcde'))"
   ]
  },
  {
   "cell_type": "markdown",
   "metadata": {},
   "source": [
    "**20. ¿Obtener la media de una serie agrupada por otra serie?**"
   ]
  },
  {
   "cell_type": "code",
   "execution_count": null,
   "metadata": {},
   "outputs": [],
   "source": [
    "frutas = pd.Series(np.random.choice(['manzana', 'banana', 'zanahoria'], 10))\n",
    "pesos = pd.Series(np.linspace(1, 10, 10))\n",
    "print(pesos.tolist())\n",
    "print(frutas.tolist())\n",
    "#> [1.0, 2.0, 3.0, 4.0, 5.0, 6.0, 7.0, 8.0, 9.0, 10.0]\n",
    "#> ['banana', 'carrot', 'apple', 'carrot', 'carrot', 'apple', 'banana', 'carrot', 'apple', 'carrot']\n",
    "\n",
    "# Los valores van a cambiar por ser random\n",
    "# apple     6.0\n",
    "# banana    4.0\n",
    "# carrot    5.8\n",
    "# dtype: float64"
   ]
  },
  {
   "cell_type": "markdown",
   "metadata": {},
   "source": [
    "**21. ¿Como importar solo columnas especificas de un archivo csv?**"
   ]
  },
  {
   "cell_type": "code",
   "execution_count": 36,
   "metadata": {},
   "outputs": [
    {
     "name": "stdout",
     "output_type": "stream",
     "text": [
      "Los registros 'age' y 'crim' son:\n",
      "        crim   age\n",
      "0    0.00632  65.2\n",
      "1    0.02731  78.9\n",
      "2    0.02729  61.1\n",
      "3    0.03237  45.8\n",
      "4    0.06905  54.2\n",
      "..       ...   ...\n",
      "501  0.06263  69.1\n",
      "502  0.04527  76.7\n",
      "503  0.06076  91.0\n",
      "504  0.10959  89.3\n",
      "505  0.04741  80.8\n",
      "\n",
      "[506 rows x 2 columns]\n"
     ]
    }
   ],
   "source": [
    "path = 'https://raw.githubusercontent.com/selva86/datasets/master/BostonHousing.csv'\n",
    "\n",
    "archivo = pd.read_csv(path, usecols=['age', 'crim'])\n",
    "\n",
    "print(f\"Los registros 'age' y 'crim' son:\\n{archivo}\")\n",
    "    "
   ]
  },
  {
   "cell_type": "code",
   "execution_count": null,
   "metadata": {},
   "outputs": [],
   "source": []
  }
 ],
 "metadata": {
  "kernelspec": {
   "display_name": "Python 3",
   "language": "python",
   "name": "python3"
  },
  "language_info": {
   "codemirror_mode": {
    "name": "ipython",
    "version": 3
   },
   "file_extension": ".py",
   "mimetype": "text/x-python",
   "name": "python",
   "nbconvert_exporter": "python",
   "pygments_lexer": "ipython3",
   "version": "3.7.4"
  }
 },
 "nbformat": 4,
 "nbformat_minor": 2
}
